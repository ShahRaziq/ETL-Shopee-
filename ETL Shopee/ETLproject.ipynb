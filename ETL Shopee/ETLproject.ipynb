{
  "nbformat": 4,
  "nbformat_minor": 0,
  "metadata": {
    "colab": {
      "name": "ETLproject.ipynb",
      "provenance": [],
      "collapsed_sections": []
    },
    "kernelspec": {
      "name": "python3",
      "display_name": "Python 3"
    },
    "language_info": {
      "name": "python"
    }
  },
  "cells": [
    {
      "cell_type": "code",
      "source": [
        "import requests\n",
        "\n",
        "import numpy as np\n",
        "import pandas as pd"
      ],
      "metadata": {
        "id": "LuDJX_IyaPPj"
      },
      "execution_count": null,
      "outputs": []
    },
    {
      "cell_type": "code",
      "execution_count": null,
      "metadata": {
        "id": "zXH8K8r9HOFR",
        "colab": {
          "base_uri": "https://localhost:8080/"
        },
        "outputId": "44e7ff92-27ad-4e53-f7f0-bd4937631975"
      },
      "outputs": [
        {
          "output_type": "stream",
          "name": "stdout",
          "text": [
            ">> items number in data: 100 \n",
            "\n"
          ]
        }
      ],
      "source": [
        "namelist=[]\n",
        "historical_sold_list=[]\n",
        "liked_count_list=[]\n",
        "brand_list=[]\n",
        "price_min_list=[]\n",
        "price_max_list=[]\n",
        "has_lowest_price_guarantee_list=[]\n",
        "discount_list=[]\n",
        "rating_star_list=[]\n",
        "freeshipping_list=[]\n",
        "shoplocation_list=[]\n",
        "\n",
        "def main(mouse, items_number=100):\n",
        "    \n",
        "    url = \"https://shopee.com.my/api/v4/search/search_items\"\n",
        "\n",
        "    params = {\n",
        "        \"by\": \"relevancy\",\n",
        "        \"keyword\": mouse,\n",
        "        \"limit\": 100,  # default value at start\n",
        "        \"newest\": 0,   # default value at start\n",
        "        \"order\": \"desc\",\n",
        "        \"page_type\": \"search\",\n",
        "        \"scenario\": \"PAGE_GLOBAL_SEARCH\",\n",
        "        \"version\": \"2\"\n",
        "    }\n",
        "    \n",
        "    for offset in range(0, items_number, 100):\n",
        "\n",
        "        #print('\\n--- offset:', offset, '---\\n')\n",
        "\n",
        "        params[\"newest\"] = offset   # other parameters are the same\n",
        "        \n",
        "        limit = items_number - offset\n",
        "        if limit < 100:\n",
        "            params[\"limit\"] = limit\n",
        "        \n",
        "        r = requests.get(url, params=params)\n",
        "        data = r.json()    \n",
        "\n",
        "        print('>> items number in data:', len(data['items']), '\\n')\n",
        "        \n",
        "        for number, item in enumerate(data['items']):\n",
        "\n",
        "            #print('number:', offset+number+1)\n",
        "            \n",
        "            basic = item['item_basic']\n",
        "            \n",
        "            # print('keys:', basic.keys())\n",
        "            # for key, value in basic.items():\n",
        "            # print(f\"{key}: {value}\")\n",
        "            \n",
        "            # NAME\n",
        "            name = basic['name']\n",
        "            #name = basic.get('name', '- unknown -')  # safer if `name` may not exists in `data`\n",
        "            #print(\"Name:\", name)\n",
        "            namelist.append(name)\n",
        "\n",
        "            #SOLD\n",
        "            historical_sold_list.append(basic['historical_sold'])\n",
        "\n",
        "            #FAVOURITE\n",
        "            liked_count_list.append(basic['liked_count'])\n",
        "\n",
        "        \n",
        "            # BRAND\n",
        "            #brand = basic['brand']\n",
        "            brand = basic.get('brand')  # safer if `brand` may not exists in `data`\n",
        "            if brand is None:\n",
        "                brand_list.append('NaN')\n",
        "            else:\n",
        "                brand_list.append(brand)\n",
        "\n",
        "            #PRICE_MIN\n",
        "            price_min_list.append(basic.get('price_min'))\n",
        "\n",
        "            #PRICE_MAX\n",
        "            price_max_list.append(basic.get('price_max'))\n",
        "\n",
        "            #DISCOUNT\n",
        "            discount=basic.get('discount')\n",
        "            if discount is None:\n",
        "              discount_list.append('0%')\n",
        "            else:\n",
        "              discount_list.append(discount)\n",
        "\n",
        "            #LOWEST PRICE GUARANTEE\n",
        "            has_lowest_price_guarantee_list.append(basic['has_lowest_price_guarantee'])\n",
        "\n",
        "            #RATING STAR\n",
        "            rating_star_list.append(basic['item_rating']['rating_star'])\n",
        "\n",
        "            #FREE SHIPPING\n",
        "            freeshipping_list.append(basic['show_free_shipping'])\n",
        "            \n",
        "            #SHOPLOCATION\n",
        "            shoplocation_list.append(basic['shop_location'])\n",
        "\n",
        "            #print('---')\n",
        "\n",
        "          \n",
        "# --- main ---\n",
        "\n",
        "main(\"mouse\")\n",
        "#main(\"make-up\", 60)\n",
        "#main(\"make-up\", 270)\n"
      ]
    },
    {
      "cell_type": "code",
      "source": [
        "df = pd.DataFrame({'Name':namelist ,\n",
        "                   'No of Sold':historical_sold_list, \n",
        "                   'Favourite':liked_count_list, \n",
        "                   'Brand':brand_list,\n",
        "                   'Price Min(RM)':price_min_list,\n",
        "                   'Price Max(RM)':price_max_list,\n",
        "                   'Lowest Price Guarantee':has_lowest_price_guarantee_list,\n",
        "                   'Discount(%)':discount_list,\n",
        "                   'Rating':rating_star_list,\n",
        "                   'Free Shipping':freeshipping_list,\n",
        "                   'ShopLocation':shoplocation_list})"
      ],
      "metadata": {
        "id": "k8EVyrtOJdXR"
      },
      "execution_count": null,
      "outputs": []
    },
    {
      "cell_type": "code",
      "source": [
        "df.head(10)"
      ],
      "metadata": {
        "id": "8-a6wE1LL6Wg",
        "colab": {
          "base_uri": "https://localhost:8080/",
          "height": 363
        },
        "outputId": "edaebf43-4322-41c1-87ab-bab11400a69d"
      },
      "execution_count": null,
      "outputs": [
        {
          "output_type": "execute_result",
          "data": {
            "text/html": [
              "\n",
              "  <div id=\"df-3b7471d8-06d0-49a6-a91b-bd9a7bc83d15\">\n",
              "    <div class=\"colab-df-container\">\n",
              "      <div>\n",
              "<style scoped>\n",
              "    .dataframe tbody tr th:only-of-type {\n",
              "        vertical-align: middle;\n",
              "    }\n",
              "\n",
              "    .dataframe tbody tr th {\n",
              "        vertical-align: top;\n",
              "    }\n",
              "\n",
              "    .dataframe thead th {\n",
              "        text-align: right;\n",
              "    }\n",
              "</style>\n",
              "<table border=\"1\" class=\"dataframe\">\n",
              "  <thead>\n",
              "    <tr style=\"text-align: right;\">\n",
              "      <th></th>\n",
              "      <th>Name</th>\n",
              "      <th>No of Sold</th>\n",
              "      <th>Favourite</th>\n",
              "      <th>Brand</th>\n",
              "      <th>Price Min(RM)</th>\n",
              "      <th>Price Max(RM)</th>\n",
              "      <th>Lowest Price Guarantee</th>\n",
              "      <th>Discount(%)</th>\n",
              "      <th>Rating</th>\n",
              "      <th>Free Shipping</th>\n",
              "      <th>ShopLocation</th>\n",
              "    </tr>\n",
              "  </thead>\n",
              "  <tbody>\n",
              "    <tr>\n",
              "      <th>0</th>\n",
              "      <td>🔥ready stock🔥Wireless Mouse Bluetooth 2.4Ghz R...</td>\n",
              "      <td>21856</td>\n",
              "      <td>3757</td>\n",
              "      <td>OEM</td>\n",
              "      <td>1230000</td>\n",
              "      <td>1790000</td>\n",
              "      <td>False</td>\n",
              "      <td>54%</td>\n",
              "      <td>4.860808</td>\n",
              "      <td>False</td>\n",
              "      <td>Selangor</td>\n",
              "    </tr>\n",
              "    <tr>\n",
              "      <th>1</th>\n",
              "      <td>Apple Magic Mouse</td>\n",
              "      <td>67</td>\n",
              "      <td>44</td>\n",
              "      <td>NaN</td>\n",
              "      <td>31900000</td>\n",
              "      <td>31900000</td>\n",
              "      <td>False</td>\n",
              "      <td>0%</td>\n",
              "      <td>4.897436</td>\n",
              "      <td>False</td>\n",
              "      <td>Perak</td>\n",
              "    </tr>\n",
              "    <tr>\n",
              "      <th>2</th>\n",
              "      <td>🔥Ready stock🔥wireless mouse 2.4G Computer mous...</td>\n",
              "      <td>1240</td>\n",
              "      <td>494</td>\n",
              "      <td>NaN</td>\n",
              "      <td>1990000</td>\n",
              "      <td>1990000</td>\n",
              "      <td>True</td>\n",
              "      <td>50%</td>\n",
              "      <td>4.962963</td>\n",
              "      <td>False</td>\n",
              "      <td>Selangor</td>\n",
              "    </tr>\n",
              "    <tr>\n",
              "      <th>3</th>\n",
              "      <td>M330 Wireless Mouse 2.4GHz USB 1000 DPI Mute O...</td>\n",
              "      <td>2536</td>\n",
              "      <td>346</td>\n",
              "      <td>NaN</td>\n",
              "      <td>1780000</td>\n",
              "      <td>1780000</td>\n",
              "      <td>False</td>\n",
              "      <td>91%</td>\n",
              "      <td>4.863492</td>\n",
              "      <td>False</td>\n",
              "      <td>Selangor</td>\n",
              "    </tr>\n",
              "    <tr>\n",
              "      <th>4</th>\n",
              "      <td>Gaming Mouse 3200DPI Adjustable Silent Mouse O...</td>\n",
              "      <td>1074</td>\n",
              "      <td>384</td>\n",
              "      <td>NaN</td>\n",
              "      <td>380000</td>\n",
              "      <td>1220000</td>\n",
              "      <td>True</td>\n",
              "      <td>85%</td>\n",
              "      <td>4.878521</td>\n",
              "      <td>False</td>\n",
              "      <td>Kuala Lumpur</td>\n",
              "    </tr>\n",
              "    <tr>\n",
              "      <th>5</th>\n",
              "      <td>Lenovo M20 USB 1000 DPI Wired Mini Optical Mou...</td>\n",
              "      <td>11929</td>\n",
              "      <td>673</td>\n",
              "      <td>OEM</td>\n",
              "      <td>355000</td>\n",
              "      <td>984000</td>\n",
              "      <td>True</td>\n",
              "      <td>2%</td>\n",
              "      <td>4.879795</td>\n",
              "      <td>False</td>\n",
              "      <td>Selangor</td>\n",
              "    </tr>\n",
              "    <tr>\n",
              "      <th>6</th>\n",
              "      <td>Tetikus Mekanikal Mechanical Gaming Mouse USB ...</td>\n",
              "      <td>1965</td>\n",
              "      <td>455</td>\n",
              "      <td>NaN</td>\n",
              "      <td>1055000</td>\n",
              "      <td>1055000</td>\n",
              "      <td>True</td>\n",
              "      <td>68%</td>\n",
              "      <td>4.818642</td>\n",
              "      <td>False</td>\n",
              "      <td>Selangor</td>\n",
              "    </tr>\n",
              "    <tr>\n",
              "      <th>7</th>\n",
              "      <td>Pebble M350 Wireless Bluetooth Mouse Original ...</td>\n",
              "      <td>345</td>\n",
              "      <td>69</td>\n",
              "      <td>NaN</td>\n",
              "      <td>1933000</td>\n",
              "      <td>1933000</td>\n",
              "      <td>False</td>\n",
              "      <td>90%</td>\n",
              "      <td>4.942029</td>\n",
              "      <td>False</td>\n",
              "      <td>Selangor</td>\n",
              "    </tr>\n",
              "    <tr>\n",
              "      <th>8</th>\n",
              "      <td>Logitech M90 Wired USB Mouse, 1000 DPI Optical...</td>\n",
              "      <td>17970</td>\n",
              "      <td>1286</td>\n",
              "      <td>Logitech</td>\n",
              "      <td>1590000</td>\n",
              "      <td>1590000</td>\n",
              "      <td>True</td>\n",
              "      <td>41%</td>\n",
              "      <td>4.928882</td>\n",
              "      <td>False</td>\n",
              "      <td>Selangor</td>\n",
              "    </tr>\n",
              "    <tr>\n",
              "      <th>9</th>\n",
              "      <td>M330 Wireless Mouse 2.4GHz USB 1000 DPI Mute O...</td>\n",
              "      <td>2536</td>\n",
              "      <td>346</td>\n",
              "      <td>NaN</td>\n",
              "      <td>1780000</td>\n",
              "      <td>1780000</td>\n",
              "      <td>False</td>\n",
              "      <td>91%</td>\n",
              "      <td>4.863492</td>\n",
              "      <td>False</td>\n",
              "      <td>Selangor</td>\n",
              "    </tr>\n",
              "  </tbody>\n",
              "</table>\n",
              "</div>\n",
              "      <button class=\"colab-df-convert\" onclick=\"convertToInteractive('df-3b7471d8-06d0-49a6-a91b-bd9a7bc83d15')\"\n",
              "              title=\"Convert this dataframe to an interactive table.\"\n",
              "              style=\"display:none;\">\n",
              "        \n",
              "  <svg xmlns=\"http://www.w3.org/2000/svg\" height=\"24px\"viewBox=\"0 0 24 24\"\n",
              "       width=\"24px\">\n",
              "    <path d=\"M0 0h24v24H0V0z\" fill=\"none\"/>\n",
              "    <path d=\"M18.56 5.44l.94 2.06.94-2.06 2.06-.94-2.06-.94-.94-2.06-.94 2.06-2.06.94zm-11 1L8.5 8.5l.94-2.06 2.06-.94-2.06-.94L8.5 2.5l-.94 2.06-2.06.94zm10 10l.94 2.06.94-2.06 2.06-.94-2.06-.94-.94-2.06-.94 2.06-2.06.94z\"/><path d=\"M17.41 7.96l-1.37-1.37c-.4-.4-.92-.59-1.43-.59-.52 0-1.04.2-1.43.59L10.3 9.45l-7.72 7.72c-.78.78-.78 2.05 0 2.83L4 21.41c.39.39.9.59 1.41.59.51 0 1.02-.2 1.41-.59l7.78-7.78 2.81-2.81c.8-.78.8-2.07 0-2.86zM5.41 20L4 18.59l7.72-7.72 1.47 1.35L5.41 20z\"/>\n",
              "  </svg>\n",
              "      </button>\n",
              "      \n",
              "  <style>\n",
              "    .colab-df-container {\n",
              "      display:flex;\n",
              "      flex-wrap:wrap;\n",
              "      gap: 12px;\n",
              "    }\n",
              "\n",
              "    .colab-df-convert {\n",
              "      background-color: #E8F0FE;\n",
              "      border: none;\n",
              "      border-radius: 50%;\n",
              "      cursor: pointer;\n",
              "      display: none;\n",
              "      fill: #1967D2;\n",
              "      height: 32px;\n",
              "      padding: 0 0 0 0;\n",
              "      width: 32px;\n",
              "    }\n",
              "\n",
              "    .colab-df-convert:hover {\n",
              "      background-color: #E2EBFA;\n",
              "      box-shadow: 0px 1px 2px rgba(60, 64, 67, 0.3), 0px 1px 3px 1px rgba(60, 64, 67, 0.15);\n",
              "      fill: #174EA6;\n",
              "    }\n",
              "\n",
              "    [theme=dark] .colab-df-convert {\n",
              "      background-color: #3B4455;\n",
              "      fill: #D2E3FC;\n",
              "    }\n",
              "\n",
              "    [theme=dark] .colab-df-convert:hover {\n",
              "      background-color: #434B5C;\n",
              "      box-shadow: 0px 1px 3px 1px rgba(0, 0, 0, 0.15);\n",
              "      filter: drop-shadow(0px 1px 2px rgba(0, 0, 0, 0.3));\n",
              "      fill: #FFFFFF;\n",
              "    }\n",
              "  </style>\n",
              "\n",
              "      <script>\n",
              "        const buttonEl =\n",
              "          document.querySelector('#df-3b7471d8-06d0-49a6-a91b-bd9a7bc83d15 button.colab-df-convert');\n",
              "        buttonEl.style.display =\n",
              "          google.colab.kernel.accessAllowed ? 'block' : 'none';\n",
              "\n",
              "        async function convertToInteractive(key) {\n",
              "          const element = document.querySelector('#df-3b7471d8-06d0-49a6-a91b-bd9a7bc83d15');\n",
              "          const dataTable =\n",
              "            await google.colab.kernel.invokeFunction('convertToInteractive',\n",
              "                                                     [key], {});\n",
              "          if (!dataTable) return;\n",
              "\n",
              "          const docLinkHtml = 'Like what you see? Visit the ' +\n",
              "            '<a target=\"_blank\" href=https://colab.research.google.com/notebooks/data_table.ipynb>data table notebook</a>'\n",
              "            + ' to learn more about interactive tables.';\n",
              "          element.innerHTML = '';\n",
              "          dataTable['output_type'] = 'display_data';\n",
              "          await google.colab.output.renderOutput(dataTable, element);\n",
              "          const docLink = document.createElement('div');\n",
              "          docLink.innerHTML = docLinkHtml;\n",
              "          element.appendChild(docLink);\n",
              "        }\n",
              "      </script>\n",
              "    </div>\n",
              "  </div>\n",
              "  "
            ],
            "text/plain": [
              "                                                Name  ...  ShopLocation\n",
              "0  🔥ready stock🔥Wireless Mouse Bluetooth 2.4Ghz R...  ...      Selangor\n",
              "1                                  Apple Magic Mouse  ...         Perak\n",
              "2  🔥Ready stock🔥wireless mouse 2.4G Computer mous...  ...      Selangor\n",
              "3  M330 Wireless Mouse 2.4GHz USB 1000 DPI Mute O...  ...      Selangor\n",
              "4  Gaming Mouse 3200DPI Adjustable Silent Mouse O...  ...  Kuala Lumpur\n",
              "5  Lenovo M20 USB 1000 DPI Wired Mini Optical Mou...  ...      Selangor\n",
              "6  Tetikus Mekanikal Mechanical Gaming Mouse USB ...  ...      Selangor\n",
              "7  Pebble M350 Wireless Bluetooth Mouse Original ...  ...      Selangor\n",
              "8  Logitech M90 Wired USB Mouse, 1000 DPI Optical...  ...      Selangor\n",
              "9  M330 Wireless Mouse 2.4GHz USB 1000 DPI Mute O...  ...      Selangor\n",
              "\n",
              "[10 rows x 11 columns]"
            ]
          },
          "metadata": {},
          "execution_count": 91
        }
      ]
    },
    {
      "cell_type": "code",
      "source": [
        "len(df)"
      ],
      "metadata": {
        "colab": {
          "base_uri": "https://localhost:8080/"
        },
        "id": "0rqUhwM5tElJ",
        "outputId": "041f0eee-5557-4d91-a558-f0a346af1854"
      },
      "execution_count": null,
      "outputs": [
        {
          "output_type": "execute_result",
          "data": {
            "text/plain": [
              "100"
            ]
          },
          "metadata": {},
          "execution_count": 92
        }
      ]
    },
    {
      "cell_type": "code",
      "source": [
        "df.dtypes"
      ],
      "metadata": {
        "colab": {
          "base_uri": "https://localhost:8080/"
        },
        "id": "6C3hp_7OVE0s",
        "outputId": "ae2ebafc-1053-4000-8b85-c4ec4c58ec15"
      },
      "execution_count": null,
      "outputs": [
        {
          "output_type": "execute_result",
          "data": {
            "text/plain": [
              "Name                       object\n",
              "No of Sold                  int64\n",
              "Favourite                   int64\n",
              "Brand                      object\n",
              "Price Min(RM)               int64\n",
              "Price Max(RM)               int64\n",
              "Lowest Price Guarantee       bool\n",
              "Discount(%)                object\n",
              "Rating                    float64\n",
              "Free Shipping                bool\n",
              "ShopLocation               object\n",
              "dtype: object"
            ]
          },
          "metadata": {},
          "execution_count": 93
        }
      ]
    },
    {
      "cell_type": "markdown",
      "source": [
        "**Data Cleaning for Price**"
      ],
      "metadata": {
        "id": "GidZWJP3iz2O"
      }
    },
    {
      "cell_type": "code",
      "source": [
        "df[\"Price Min(RM)\"]=df['Price Min(RM)']/100000\n",
        "df[\"Price Max(RM)\"]=df['Price Max(RM)']/100000"
      ],
      "metadata": {
        "id": "k6etBS0jTrSd"
      },
      "execution_count": null,
      "outputs": []
    },
    {
      "cell_type": "markdown",
      "source": [
        "**Data Cleaning for Brand**"
      ],
      "metadata": {
        "id": "vpIHYLcpi8GA"
      }
    },
    {
      "cell_type": "code",
      "source": [
        "df['Brand'].unique()"
      ],
      "metadata": {
        "colab": {
          "base_uri": "https://localhost:8080/"
        },
        "id": "vokUzkqHhe6r",
        "outputId": "ced9f820-2b05-4781-828f-669e83f5e1ac"
      },
      "execution_count": null,
      "outputs": [
        {
          "output_type": "execute_result",
          "data": {
            "text/plain": [
              "array(['OEM', 'NaN', 'Logitech', 'Razer', 'HP', 'Targus', 'T-Wolf',\n",
              "       'Philips', 'No Brand', 'Alcatroz', 'Sensonic', 'Fantech',\n",
              "       'Gaming Freak', 'Thunderobot', '0', 'Armaggeddon', 'Logitech G',\n",
              "       '', 'Delux'], dtype=object)"
            ]
          },
          "metadata": {},
          "execution_count": 95
        }
      ]
    },
    {
      "cell_type": "code",
      "source": [
        "df['Brand'] = df['Brand'].replace({'No Brand':'NaN', '0': 'NaN', '': 'NaN', 'None':'NaN'})"
      ],
      "metadata": {
        "id": "8Mdb_Drjhqea"
      },
      "execution_count": null,
      "outputs": []
    },
    {
      "cell_type": "code",
      "source": [
        "df['Brand'].unique()"
      ],
      "metadata": {
        "colab": {
          "base_uri": "https://localhost:8080/"
        },
        "id": "4lNmscKBiajd",
        "outputId": "721a4b9d-519d-4101-e6bc-a15dd0b54628"
      },
      "execution_count": null,
      "outputs": [
        {
          "output_type": "execute_result",
          "data": {
            "text/plain": [
              "array(['OEM', 'NaN', 'Logitech', 'Razer', 'HP', 'Targus', 'T-Wolf',\n",
              "       'Philips', 'Alcatroz', 'Sensonic', 'Fantech', 'Gaming Freak',\n",
              "       'Thunderobot', 'Armaggeddon', 'Logitech G', 'Delux'], dtype=object)"
            ]
          },
          "metadata": {},
          "execution_count": 97
        }
      ]
    },
    {
      "cell_type": "markdown",
      "source": [
        "**Data Cleaning for Discount**"
      ],
      "metadata": {
        "id": "nqjw-SUkjaSQ"
      }
    },
    {
      "cell_type": "code",
      "source": [
        "df[\"Discount(%)\"] = df['Discount(%)'].replace({'%': ''}, regex=True).map(pd.eval).astype(int)"
      ],
      "metadata": {
        "id": "pl-GXR-njIi_"
      },
      "execution_count": null,
      "outputs": []
    },
    {
      "cell_type": "markdown",
      "source": [
        "**Data Cleaning for Rating**"
      ],
      "metadata": {
        "id": "IiWHUZ6Mje54"
      }
    },
    {
      "cell_type": "code",
      "source": [
        "df['Rating'] = df['Rating'].round(2)"
      ],
      "metadata": {
        "id": "tVdselnvjiW5"
      },
      "execution_count": null,
      "outputs": []
    },
    {
      "cell_type": "markdown",
      "source": [
        "**Data Categorising for Shop Location**"
      ],
      "metadata": {
        "id": "2J8ktYKei_-6"
      }
    },
    {
      "cell_type": "code",
      "source": [
        "df['ShopLocation'].unique()"
      ],
      "metadata": {
        "colab": {
          "base_uri": "https://localhost:8080/"
        },
        "id": "LQDnz70uinF4",
        "outputId": "6a23f829-d475-422b-d64e-86f65fab15a7"
      },
      "execution_count": null,
      "outputs": [
        {
          "output_type": "execute_result",
          "data": {
            "text/plain": [
              "array(['Selangor', 'Perak', 'Kuala Lumpur', 'Johor', 'Mainland China'],\n",
              "      dtype=object)"
            ]
          },
          "metadata": {},
          "execution_count": 100
        }
      ]
    },
    {
      "cell_type": "code",
      "source": [
        "df['ShopLocationCategory']='Local'\n",
        "df.loc[df['ShopLocation'] == 'Korea', 'ShopLocationCategory'] = 'Overseas'\n",
        "df.loc[df['ShopLocation'] == 'Vietnam', 'ShopLocationCategory'] = 'Overseas'\n",
        "df.loc[df['ShopLocation'] == 'Mainland China', 'ShopLocationCategory'] = 'Overseas'\n",
        "df.loc[df['ShopLocation'] == 'Taiwan', 'ShopLocationCategory'] = 'Overseas'"
      ],
      "metadata": {
        "id": "lbxdKY3LjyFA"
      },
      "execution_count": null,
      "outputs": []
    },
    {
      "cell_type": "code",
      "source": [
        "df.head(10)"
      ],
      "metadata": {
        "colab": {
          "base_uri": "https://localhost:8080/",
          "height": 406
        },
        "id": "qGV0XCh8Vv1V",
        "outputId": "ae6bd8c9-e860-4c5d-ff22-c8e8e5919500"
      },
      "execution_count": null,
      "outputs": [
        {
          "output_type": "execute_result",
          "data": {
            "text/html": [
              "\n",
              "  <div id=\"df-b431e8f1-ab36-4426-a00f-0524a14c06c8\">\n",
              "    <div class=\"colab-df-container\">\n",
              "      <div>\n",
              "<style scoped>\n",
              "    .dataframe tbody tr th:only-of-type {\n",
              "        vertical-align: middle;\n",
              "    }\n",
              "\n",
              "    .dataframe tbody tr th {\n",
              "        vertical-align: top;\n",
              "    }\n",
              "\n",
              "    .dataframe thead th {\n",
              "        text-align: right;\n",
              "    }\n",
              "</style>\n",
              "<table border=\"1\" class=\"dataframe\">\n",
              "  <thead>\n",
              "    <tr style=\"text-align: right;\">\n",
              "      <th></th>\n",
              "      <th>Name</th>\n",
              "      <th>No of Sold</th>\n",
              "      <th>Favourite</th>\n",
              "      <th>Brand</th>\n",
              "      <th>Price Min(RM)</th>\n",
              "      <th>Price Max(RM)</th>\n",
              "      <th>Lowest Price Guarantee</th>\n",
              "      <th>Discount(%)</th>\n",
              "      <th>Rating</th>\n",
              "      <th>Free Shipping</th>\n",
              "      <th>ShopLocation</th>\n",
              "      <th>ShopLocationCategory</th>\n",
              "    </tr>\n",
              "  </thead>\n",
              "  <tbody>\n",
              "    <tr>\n",
              "      <th>0</th>\n",
              "      <td>🔥ready stock🔥Wireless Mouse Bluetooth 2.4Ghz R...</td>\n",
              "      <td>21856</td>\n",
              "      <td>3757</td>\n",
              "      <td>OEM</td>\n",
              "      <td>12.30</td>\n",
              "      <td>17.90</td>\n",
              "      <td>False</td>\n",
              "      <td>54</td>\n",
              "      <td>4.86</td>\n",
              "      <td>False</td>\n",
              "      <td>Selangor</td>\n",
              "      <td>Local</td>\n",
              "    </tr>\n",
              "    <tr>\n",
              "      <th>1</th>\n",
              "      <td>Apple Magic Mouse</td>\n",
              "      <td>67</td>\n",
              "      <td>44</td>\n",
              "      <td>NaN</td>\n",
              "      <td>319.00</td>\n",
              "      <td>319.00</td>\n",
              "      <td>False</td>\n",
              "      <td>0</td>\n",
              "      <td>4.90</td>\n",
              "      <td>False</td>\n",
              "      <td>Perak</td>\n",
              "      <td>Local</td>\n",
              "    </tr>\n",
              "    <tr>\n",
              "      <th>2</th>\n",
              "      <td>🔥Ready stock🔥wireless mouse 2.4G Computer mous...</td>\n",
              "      <td>1240</td>\n",
              "      <td>494</td>\n",
              "      <td>NaN</td>\n",
              "      <td>19.90</td>\n",
              "      <td>19.90</td>\n",
              "      <td>True</td>\n",
              "      <td>50</td>\n",
              "      <td>4.96</td>\n",
              "      <td>False</td>\n",
              "      <td>Selangor</td>\n",
              "      <td>Local</td>\n",
              "    </tr>\n",
              "    <tr>\n",
              "      <th>3</th>\n",
              "      <td>M330 Wireless Mouse 2.4GHz USB 1000 DPI Mute O...</td>\n",
              "      <td>2536</td>\n",
              "      <td>346</td>\n",
              "      <td>NaN</td>\n",
              "      <td>17.80</td>\n",
              "      <td>17.80</td>\n",
              "      <td>False</td>\n",
              "      <td>91</td>\n",
              "      <td>4.86</td>\n",
              "      <td>False</td>\n",
              "      <td>Selangor</td>\n",
              "      <td>Local</td>\n",
              "    </tr>\n",
              "    <tr>\n",
              "      <th>4</th>\n",
              "      <td>Gaming Mouse 3200DPI Adjustable Silent Mouse O...</td>\n",
              "      <td>1074</td>\n",
              "      <td>384</td>\n",
              "      <td>NaN</td>\n",
              "      <td>3.80</td>\n",
              "      <td>12.20</td>\n",
              "      <td>True</td>\n",
              "      <td>85</td>\n",
              "      <td>4.88</td>\n",
              "      <td>False</td>\n",
              "      <td>Kuala Lumpur</td>\n",
              "      <td>Local</td>\n",
              "    </tr>\n",
              "    <tr>\n",
              "      <th>5</th>\n",
              "      <td>Lenovo M20 USB 1000 DPI Wired Mini Optical Mou...</td>\n",
              "      <td>11929</td>\n",
              "      <td>673</td>\n",
              "      <td>OEM</td>\n",
              "      <td>3.55</td>\n",
              "      <td>9.84</td>\n",
              "      <td>True</td>\n",
              "      <td>2</td>\n",
              "      <td>4.88</td>\n",
              "      <td>False</td>\n",
              "      <td>Selangor</td>\n",
              "      <td>Local</td>\n",
              "    </tr>\n",
              "    <tr>\n",
              "      <th>6</th>\n",
              "      <td>Tetikus Mekanikal Mechanical Gaming Mouse USB ...</td>\n",
              "      <td>1965</td>\n",
              "      <td>455</td>\n",
              "      <td>NaN</td>\n",
              "      <td>10.55</td>\n",
              "      <td>10.55</td>\n",
              "      <td>True</td>\n",
              "      <td>68</td>\n",
              "      <td>4.82</td>\n",
              "      <td>False</td>\n",
              "      <td>Selangor</td>\n",
              "      <td>Local</td>\n",
              "    </tr>\n",
              "    <tr>\n",
              "      <th>7</th>\n",
              "      <td>Pebble M350 Wireless Bluetooth Mouse Original ...</td>\n",
              "      <td>345</td>\n",
              "      <td>69</td>\n",
              "      <td>NaN</td>\n",
              "      <td>19.33</td>\n",
              "      <td>19.33</td>\n",
              "      <td>False</td>\n",
              "      <td>90</td>\n",
              "      <td>4.94</td>\n",
              "      <td>False</td>\n",
              "      <td>Selangor</td>\n",
              "      <td>Local</td>\n",
              "    </tr>\n",
              "    <tr>\n",
              "      <th>8</th>\n",
              "      <td>Logitech M90 Wired USB Mouse, 1000 DPI Optical...</td>\n",
              "      <td>17970</td>\n",
              "      <td>1286</td>\n",
              "      <td>Logitech</td>\n",
              "      <td>15.90</td>\n",
              "      <td>15.90</td>\n",
              "      <td>True</td>\n",
              "      <td>41</td>\n",
              "      <td>4.93</td>\n",
              "      <td>False</td>\n",
              "      <td>Selangor</td>\n",
              "      <td>Local</td>\n",
              "    </tr>\n",
              "    <tr>\n",
              "      <th>9</th>\n",
              "      <td>M330 Wireless Mouse 2.4GHz USB 1000 DPI Mute O...</td>\n",
              "      <td>2536</td>\n",
              "      <td>346</td>\n",
              "      <td>NaN</td>\n",
              "      <td>17.80</td>\n",
              "      <td>17.80</td>\n",
              "      <td>False</td>\n",
              "      <td>91</td>\n",
              "      <td>4.86</td>\n",
              "      <td>False</td>\n",
              "      <td>Selangor</td>\n",
              "      <td>Local</td>\n",
              "    </tr>\n",
              "  </tbody>\n",
              "</table>\n",
              "</div>\n",
              "      <button class=\"colab-df-convert\" onclick=\"convertToInteractive('df-b431e8f1-ab36-4426-a00f-0524a14c06c8')\"\n",
              "              title=\"Convert this dataframe to an interactive table.\"\n",
              "              style=\"display:none;\">\n",
              "        \n",
              "  <svg xmlns=\"http://www.w3.org/2000/svg\" height=\"24px\"viewBox=\"0 0 24 24\"\n",
              "       width=\"24px\">\n",
              "    <path d=\"M0 0h24v24H0V0z\" fill=\"none\"/>\n",
              "    <path d=\"M18.56 5.44l.94 2.06.94-2.06 2.06-.94-2.06-.94-.94-2.06-.94 2.06-2.06.94zm-11 1L8.5 8.5l.94-2.06 2.06-.94-2.06-.94L8.5 2.5l-.94 2.06-2.06.94zm10 10l.94 2.06.94-2.06 2.06-.94-2.06-.94-.94-2.06-.94 2.06-2.06.94z\"/><path d=\"M17.41 7.96l-1.37-1.37c-.4-.4-.92-.59-1.43-.59-.52 0-1.04.2-1.43.59L10.3 9.45l-7.72 7.72c-.78.78-.78 2.05 0 2.83L4 21.41c.39.39.9.59 1.41.59.51 0 1.02-.2 1.41-.59l7.78-7.78 2.81-2.81c.8-.78.8-2.07 0-2.86zM5.41 20L4 18.59l7.72-7.72 1.47 1.35L5.41 20z\"/>\n",
              "  </svg>\n",
              "      </button>\n",
              "      \n",
              "  <style>\n",
              "    .colab-df-container {\n",
              "      display:flex;\n",
              "      flex-wrap:wrap;\n",
              "      gap: 12px;\n",
              "    }\n",
              "\n",
              "    .colab-df-convert {\n",
              "      background-color: #E8F0FE;\n",
              "      border: none;\n",
              "      border-radius: 50%;\n",
              "      cursor: pointer;\n",
              "      display: none;\n",
              "      fill: #1967D2;\n",
              "      height: 32px;\n",
              "      padding: 0 0 0 0;\n",
              "      width: 32px;\n",
              "    }\n",
              "\n",
              "    .colab-df-convert:hover {\n",
              "      background-color: #E2EBFA;\n",
              "      box-shadow: 0px 1px 2px rgba(60, 64, 67, 0.3), 0px 1px 3px 1px rgba(60, 64, 67, 0.15);\n",
              "      fill: #174EA6;\n",
              "    }\n",
              "\n",
              "    [theme=dark] .colab-df-convert {\n",
              "      background-color: #3B4455;\n",
              "      fill: #D2E3FC;\n",
              "    }\n",
              "\n",
              "    [theme=dark] .colab-df-convert:hover {\n",
              "      background-color: #434B5C;\n",
              "      box-shadow: 0px 1px 3px 1px rgba(0, 0, 0, 0.15);\n",
              "      filter: drop-shadow(0px 1px 2px rgba(0, 0, 0, 0.3));\n",
              "      fill: #FFFFFF;\n",
              "    }\n",
              "  </style>\n",
              "\n",
              "      <script>\n",
              "        const buttonEl =\n",
              "          document.querySelector('#df-b431e8f1-ab36-4426-a00f-0524a14c06c8 button.colab-df-convert');\n",
              "        buttonEl.style.display =\n",
              "          google.colab.kernel.accessAllowed ? 'block' : 'none';\n",
              "\n",
              "        async function convertToInteractive(key) {\n",
              "          const element = document.querySelector('#df-b431e8f1-ab36-4426-a00f-0524a14c06c8');\n",
              "          const dataTable =\n",
              "            await google.colab.kernel.invokeFunction('convertToInteractive',\n",
              "                                                     [key], {});\n",
              "          if (!dataTable) return;\n",
              "\n",
              "          const docLinkHtml = 'Like what you see? Visit the ' +\n",
              "            '<a target=\"_blank\" href=https://colab.research.google.com/notebooks/data_table.ipynb>data table notebook</a>'\n",
              "            + ' to learn more about interactive tables.';\n",
              "          element.innerHTML = '';\n",
              "          dataTable['output_type'] = 'display_data';\n",
              "          await google.colab.output.renderOutput(dataTable, element);\n",
              "          const docLink = document.createElement('div');\n",
              "          docLink.innerHTML = docLinkHtml;\n",
              "          element.appendChild(docLink);\n",
              "        }\n",
              "      </script>\n",
              "    </div>\n",
              "  </div>\n",
              "  "
            ],
            "text/plain": [
              "                                                Name  ...  ShopLocationCategory\n",
              "0  🔥ready stock🔥Wireless Mouse Bluetooth 2.4Ghz R...  ...                 Local\n",
              "1                                  Apple Magic Mouse  ...                 Local\n",
              "2  🔥Ready stock🔥wireless mouse 2.4G Computer mous...  ...                 Local\n",
              "3  M330 Wireless Mouse 2.4GHz USB 1000 DPI Mute O...  ...                 Local\n",
              "4  Gaming Mouse 3200DPI Adjustable Silent Mouse O...  ...                 Local\n",
              "5  Lenovo M20 USB 1000 DPI Wired Mini Optical Mou...  ...                 Local\n",
              "6  Tetikus Mekanikal Mechanical Gaming Mouse USB ...  ...                 Local\n",
              "7  Pebble M350 Wireless Bluetooth Mouse Original ...  ...                 Local\n",
              "8  Logitech M90 Wired USB Mouse, 1000 DPI Optical...  ...                 Local\n",
              "9  M330 Wireless Mouse 2.4GHz USB 1000 DPI Mute O...  ...                 Local\n",
              "\n",
              "[10 rows x 12 columns]"
            ]
          },
          "metadata": {},
          "execution_count": 102
        }
      ]
    },
    {
      "cell_type": "markdown",
      "source": [
        "# Removing outliers"
      ],
      "metadata": {
        "id": "YL3-75xftfs0"
      }
    },
    {
      "cell_type": "code",
      "source": [
        "import matplotlib.pyplot as plt\n",
        "import seaborn as sns\n",
        "\n",
        "#define a function to plot boxplot\n",
        "def plot(df,col):\n",
        "    plt.figure(figsize=(20,8))\n",
        "    #histogram\n",
        "    plt.subplot(1,2,1)\n",
        "    plt.hist(df[col],alpha=0.5)\n",
        "\n",
        "    #boxplot\n",
        "    plt.subplot(1,2,2)\n",
        "    sns.boxplot(df[col])\n",
        "    plt.show()\n",
        "    "
      ],
      "metadata": {
        "id": "ubCH-aLfvFG2"
      },
      "execution_count": null,
      "outputs": []
    },
    {
      "cell_type": "markdown",
      "source": [
        "**Data Cleaning & Visualisation for Number of sold**\n",
        "\n"
      ],
      "metadata": {
        "id": "aoHlWJNwq34C"
      }
    },
    {
      "cell_type": "code",
      "source": [
        "df['No of Sold'].describe()"
      ],
      "metadata": {
        "colab": {
          "base_uri": "https://localhost:8080/"
        },
        "id": "bX0N7LyvvHLM",
        "outputId": "45a968bb-a91e-4c02-84e8-b019d9857181"
      },
      "execution_count": null,
      "outputs": [
        {
          "output_type": "execute_result",
          "data": {
            "text/plain": [
              "count      100.000000\n",
              "mean      2658.340000\n",
              "std       4793.530464\n",
              "min          0.000000\n",
              "25%        211.500000\n",
              "50%        486.500000\n",
              "75%       2048.500000\n",
              "max      22636.000000\n",
              "Name: No of Sold, dtype: float64"
            ]
          },
          "metadata": {},
          "execution_count": 104
        }
      ]
    },
    {
      "cell_type": "code",
      "source": [
        "plot(df,'No of Sold')"
      ],
      "metadata": {
        "colab": {
          "base_uri": "https://localhost:8080/",
          "height": 554
        },
        "id": "OvvMIcEJWwI6",
        "outputId": "ce33272a-6127-422d-e101-e8daabdefaed"
      },
      "execution_count": null,
      "outputs": [
        {
          "output_type": "stream",
          "name": "stderr",
          "text": [
            "/usr/local/lib/python3.7/dist-packages/seaborn/_decorators.py:43: FutureWarning: Pass the following variable as a keyword arg: x. From version 0.12, the only valid positional argument will be `data`, and passing other arguments without an explicit keyword will result in an error or misinterpretation.\n",
            "  FutureWarning\n"
          ]
        },
        {
          "output_type": "display_data",
          "data": {
            "image/png": "[encoded data removed]",
            "text/plain": [
              "<Figure size 1440x576 with 2 Axes>"
            ]
          },
          "metadata": {
            "needs_background": "light"
          }
        }
      ]
    },
    {
      "cell_type": "code",
      "source": [
        "lower_bound, upper_bound = find_boundaries(df,'No of Sold')\n",
        "print('lower boundary: ',lower_bound)\n",
        "print('upper boundary: ',upper_bound)"
      ],
      "metadata": {
        "colab": {
          "base_uri": "https://localhost:8080/",
          "height": 208
        },
        "id": "o0U_qQVJlETp",
        "outputId": "176df88d-d526-4b6e-8dbd-729565f8b9c5"
      },
      "execution_count": null,
      "outputs": [
        {
          "output_type": "error",
          "ename": "TypeError",
          "evalue": "ignored",
          "traceback": [
            "\u001b[0;31m---------------------------------------------------------------------------\u001b[0m",
            "\u001b[0;31mTypeError\u001b[0m                                 Traceback (most recent call last)",
            "\u001b[0;32m<ipython-input-106-502add48a133>\u001b[0m in \u001b[0;36m<module>\u001b[0;34m()\u001b[0m\n\u001b[0;32m----> 1\u001b[0;31m \u001b[0mlower_bound\u001b[0m\u001b[0;34m,\u001b[0m \u001b[0mupper_bound\u001b[0m \u001b[0;34m=\u001b[0m \u001b[0mfind_boundaries\u001b[0m\u001b[0;34m(\u001b[0m\u001b[0mdf\u001b[0m\u001b[0;34m,\u001b[0m\u001b[0;34m'No of Sold'\u001b[0m\u001b[0;34m)\u001b[0m\u001b[0;34m\u001b[0m\u001b[0;34m\u001b[0m\u001b[0m\n\u001b[0m\u001b[1;32m      2\u001b[0m \u001b[0mprint\u001b[0m\u001b[0;34m(\u001b[0m\u001b[0;34m'lower boundary: '\u001b[0m\u001b[0;34m,\u001b[0m\u001b[0mlower_bound\u001b[0m\u001b[0;34m)\u001b[0m\u001b[0;34m\u001b[0m\u001b[0;34m\u001b[0m\u001b[0m\n\u001b[1;32m      3\u001b[0m \u001b[0mprint\u001b[0m\u001b[0;34m(\u001b[0m\u001b[0;34m'upper boundary: '\u001b[0m\u001b[0;34m,\u001b[0m\u001b[0mupper_bound\u001b[0m\u001b[0;34m)\u001b[0m\u001b[0;34m\u001b[0m\u001b[0;34m\u001b[0m\u001b[0m\n",
            "\u001b[0;31mTypeError\u001b[0m: 'DataFrame' object is not callable"
          ]
        }
      ]
    },
    {
      "cell_type": "code",
      "source": [
        "#replace outliers with lower boundary / upper boundary\n",
        "df['No of Sold']=np.where(df['No of Sold']>upper_bound, upper_bound,\n",
        "np.where(df['No of Sold']<lower_bound, lower_bound, df['No of Sold']))"
      ],
      "metadata": {
        "id": "QhGg3aVUmYmk",
        "colab": {
          "base_uri": "https://localhost:8080/",
          "height": 208
        },
        "outputId": "942ab6e0-8044-493a-9ed5-2612e81506f3"
      },
      "execution_count": null,
      "outputs": [
        {
          "output_type": "error",
          "ename": "NameError",
          "evalue": "ignored",
          "traceback": [
            "\u001b[0;31m---------------------------------------------------------------------------\u001b[0m",
            "\u001b[0;31mNameError\u001b[0m                                 Traceback (most recent call last)",
            "\u001b[0;32m<ipython-input-107-769211493d03>\u001b[0m in \u001b[0;36m<module>\u001b[0;34m()\u001b[0m\n\u001b[1;32m      1\u001b[0m \u001b[0;31m#replace outliers with lower boundary / upper boundary\u001b[0m\u001b[0;34m\u001b[0m\u001b[0;34m\u001b[0m\u001b[0;34m\u001b[0m\u001b[0m\n\u001b[0;32m----> 2\u001b[0;31m df['No of Sold']=np.where(df['No of Sold']>upper_bound, upper_bound,\n\u001b[0m\u001b[1;32m      3\u001b[0m np.where(df['No of Sold']<lower_bound, lower_bound, df['No of Sold']))\n",
            "\u001b[0;31mNameError\u001b[0m: name 'upper_bound' is not defined"
          ]
        }
      ]
    },
    {
      "cell_type": "code",
      "source": [
        "plot(df,'No of Sold')"
      ],
      "metadata": {
        "colab": {
          "base_uri": "https://localhost:8080/",
          "height": 554
        },
        "id": "XbbmMo7tm25j",
        "outputId": "91e9f57e-e072-49fb-c3d3-1dfe6e9ad7a4"
      },
      "execution_count": null,
      "outputs": [
        {
          "output_type": "stream",
          "name": "stderr",
          "text": [
            "/usr/local/lib/python3.7/dist-packages/seaborn/_decorators.py:43: FutureWarning: Pass the following variable as a keyword arg: x. From version 0.12, the only valid positional argument will be `data`, and passing other arguments without an explicit keyword will result in an error or misinterpretation.\n",
            "  FutureWarning\n"
          ]
        },
        {
          "output_type": "display_data",
          "data": {
            "image/png": "[encoded data removed]",
            "text/plain": [
              "<Figure size 1440x576 with 2 Axes>"
            ]
          },
          "metadata": {
            "needs_background": "light"
          }
        }
      ]
    },
    {
      "cell_type": "markdown",
      "source": [
        "**Data Cleaning & Visualisation for Favourite**"
      ],
      "metadata": {
        "id": "97U5Y-GbtVmV"
      }
    },
    {
      "cell_type": "code",
      "source": [
        "plot(df,'Favourite')"
      ],
      "metadata": {
        "colab": {
          "base_uri": "https://localhost:8080/",
          "height": 554
        },
        "id": "nenToTZr432Q",
        "outputId": "3c5b6175-dcb6-4f4b-dd8a-b08dc1582480"
      },
      "execution_count": null,
      "outputs": [
        {
          "output_type": "stream",
          "name": "stderr",
          "text": [
            "/usr/local/lib/python3.7/dist-packages/seaborn/_decorators.py:43: FutureWarning: Pass the following variable as a keyword arg: x. From version 0.12, the only valid positional argument will be `data`, and passing other arguments without an explicit keyword will result in an error or misinterpretation.\n",
            "  FutureWarning\n"
          ]
        },
        {
          "output_type": "display_data",
          "data": {
            "image/png": "[encoded data removed]",
            "text/plain": [
              "<Figure size 1440x576 with 2 Axes>"
            ]
          },
          "metadata": {
            "needs_background": "light"
          }
        }
      ]
    },
    {
      "cell_type": "code",
      "source": [
        "lower_bound, upper_bound = find_boundaries(df,'Favourite')\n",
        "print('lower boundary: ',lower_bound)\n",
        "print('upper boundary: ',upper_bound)"
      ],
      "metadata": {
        "colab": {
          "base_uri": "https://localhost:8080/",
          "height": 208
        },
        "id": "PsAJm80csf5l",
        "outputId": "8c2bf3c8-d5a2-417f-f8a3-2371b0b49333"
      },
      "execution_count": null,
      "outputs": [
        {
          "output_type": "error",
          "ename": "TypeError",
          "evalue": "ignored",
          "traceback": [
            "\u001b[0;31m---------------------------------------------------------------------------\u001b[0m",
            "\u001b[0;31mTypeError\u001b[0m                                 Traceback (most recent call last)",
            "\u001b[0;32m<ipython-input-110-07a7a59e826f>\u001b[0m in \u001b[0;36m<module>\u001b[0;34m()\u001b[0m\n\u001b[0;32m----> 1\u001b[0;31m \u001b[0mlower_bound\u001b[0m\u001b[0;34m,\u001b[0m \u001b[0mupper_bound\u001b[0m \u001b[0;34m=\u001b[0m \u001b[0mfind_boundaries\u001b[0m\u001b[0;34m(\u001b[0m\u001b[0mdf\u001b[0m\u001b[0;34m,\u001b[0m\u001b[0;34m'Favourite'\u001b[0m\u001b[0;34m)\u001b[0m\u001b[0;34m\u001b[0m\u001b[0;34m\u001b[0m\u001b[0m\n\u001b[0m\u001b[1;32m      2\u001b[0m \u001b[0mprint\u001b[0m\u001b[0;34m(\u001b[0m\u001b[0;34m'lower boundary: '\u001b[0m\u001b[0;34m,\u001b[0m\u001b[0mlower_bound\u001b[0m\u001b[0;34m)\u001b[0m\u001b[0;34m\u001b[0m\u001b[0;34m\u001b[0m\u001b[0m\n\u001b[1;32m      3\u001b[0m \u001b[0mprint\u001b[0m\u001b[0;34m(\u001b[0m\u001b[0;34m'upper boundary: '\u001b[0m\u001b[0;34m,\u001b[0m\u001b[0mupper_bound\u001b[0m\u001b[0;34m)\u001b[0m\u001b[0;34m\u001b[0m\u001b[0;34m\u001b[0m\u001b[0m\n",
            "\u001b[0;31mTypeError\u001b[0m: 'DataFrame' object is not callable"
          ]
        }
      ]
    },
    {
      "cell_type": "code",
      "source": [
        "#replace outliers with lower or upper boundary\n",
        "df['Favourite']=np.where(df['Favourite']>upper_bound, upper_bound,\n",
        "                          np.where(df['Favourite']<lower_bound, lower_bound, df['Favourite']))"
      ],
      "metadata": {
        "id": "7qtmOHEOsjjf",
        "colab": {
          "base_uri": "https://localhost:8080/",
          "height": 208
        },
        "outputId": "4ee78305-a556-4c2f-80e3-29b5d738ebf0"
      },
      "execution_count": null,
      "outputs": [
        {
          "output_type": "error",
          "ename": "NameError",
          "evalue": "ignored",
          "traceback": [
            "\u001b[0;31m---------------------------------------------------------------------------\u001b[0m",
            "\u001b[0;31mNameError\u001b[0m                                 Traceback (most recent call last)",
            "\u001b[0;32m<ipython-input-111-85f37126d8df>\u001b[0m in \u001b[0;36m<module>\u001b[0;34m()\u001b[0m\n\u001b[1;32m      1\u001b[0m \u001b[0;31m#replace outliers with lower or upper boundary\u001b[0m\u001b[0;34m\u001b[0m\u001b[0;34m\u001b[0m\u001b[0;34m\u001b[0m\u001b[0m\n\u001b[0;32m----> 2\u001b[0;31m df['Favourite']=np.where(df['Favourite']>upper_bound, upper_bound,\n\u001b[0m\u001b[1;32m      3\u001b[0m                           np.where(df['Favourite']<lower_bound, lower_bound, df['Favourite']))\n",
            "\u001b[0;31mNameError\u001b[0m: name 'upper_bound' is not defined"
          ]
        }
      ]
    },
    {
      "cell_type": "code",
      "source": [
        "plot(df,'Favourite')"
      ],
      "metadata": {
        "colab": {
          "base_uri": "https://localhost:8080/",
          "height": 554
        },
        "id": "5cvDrNZYsv9b",
        "outputId": "6e3b06d8-79a4-4e54-b379-677f979ec5aa"
      },
      "execution_count": null,
      "outputs": [
        {
          "output_type": "stream",
          "name": "stderr",
          "text": [
            "/usr/local/lib/python3.7/dist-packages/seaborn/_decorators.py:43: FutureWarning: Pass the following variable as a keyword arg: x. From version 0.12, the only valid positional argument will be `data`, and passing other arguments without an explicit keyword will result in an error or misinterpretation.\n",
            "  FutureWarning\n"
          ]
        },
        {
          "output_type": "display_data",
          "data": {
            "image/png": "[encoded data removed]",
            "text/plain": [
              "<Figure size 1440x576 with 2 Axes>"
            ]
          },
          "metadata": {
            "needs_background": "light"
          }
        }
      ]
    },
    {
      "cell_type": "markdown",
      "source": [
        "**Data Cleaning & Visualisation for Rating**"
      ],
      "metadata": {
        "id": "S6iGmjnqtvjU"
      }
    },
    {
      "cell_type": "code",
      "source": [
        "plot(df,'Rating')"
      ],
      "metadata": {
        "id": "qd-JJKeS46qu"
      },
      "execution_count": null,
      "outputs": []
    },
    {
      "cell_type": "code",
      "source": [
        "lower_bound, upper_bound = find_boundaries(df,'Rating')\n",
        "print('lower boundary: ',lower_bound)\n",
        "print('upper boundary: ', upper_bound)\n",
        "\n",
        "#replace outliers with lower/upper boundary\n",
        "df['Rating']=np.where(df['Rating']>upper_bound, upper_bound,\n",
        "                          np.where(df['Rating']<lower_bound, lower_bound, df['Rating']))"
      ],
      "metadata": {
        "id": "4Jr5kUNnt29S"
      },
      "execution_count": null,
      "outputs": []
    },
    {
      "cell_type": "code",
      "source": [
        "plot(df, 'Rating')"
      ],
      "metadata": {
        "id": "WtlKiDTIt_ZL"
      },
      "execution_count": null,
      "outputs": []
    },
    {
      "cell_type": "code",
      "source": [
        "#scatter plot sold & fav \n",
        "#showing positive association \n",
        "sns.lmplot(y='No of Sold',x='Favourite',data=df,fit_reg=True, height=8)"
      ],
      "metadata": {
        "id": "17ZkOSHXiX93"
      },
      "execution_count": null,
      "outputs": []
    },
    {
      "cell_type": "code",
      "source": [
        "#scatter plot sold & price min\n",
        "#showing negative association \n",
        "sns.lmplot(y='No of Sold',x='Price Min(RM)',data=df,fit_reg=True, height=8)"
      ],
      "metadata": {
        "id": "w8zZDWm2if9c"
      },
      "execution_count": null,
      "outputs": []
    },
    {
      "cell_type": "code",
      "source": [
        "#scatter plot sold & price max \n",
        "#showing negative association \n",
        "sns.lmplot(y='No of Sold',x='Price Max(RM)',data=df,fit_reg=True, height=8)"
      ],
      "metadata": {
        "id": "BsBt_N1Xiww7"
      },
      "execution_count": null,
      "outputs": []
    },
    {
      "cell_type": "code",
      "source": [
        "#scatter plot sold & rating\n",
        "#weak/no association \n",
        "sns.lmplot(y='No of Sold',x='Rating',data=df,fit_reg=True, height=8)"
      ],
      "metadata": {
        "id": "QjsZDp3vi5Wf"
      },
      "execution_count": null,
      "outputs": []
    },
    {
      "cell_type": "code",
      "source": [
        "#scatter plot sold & discount\n",
        "#weak positive association \n",
        "sns.lmplot(y='No of Sold',x='Discount(%)',data=df,fit_reg=True, height=8)"
      ],
      "metadata": {
        "id": "875oRA31wGtj"
      },
      "execution_count": null,
      "outputs": []
    },
    {
      "cell_type": "markdown",
      "source": [
        "**Free Shipping**"
      ],
      "metadata": {
        "id": "woRfZq2cHVP4"
      }
    },
    {
      "cell_type": "code",
      "source": [
        "df['row_num'] = df.reset_index().index"
      ],
      "metadata": {
        "id": "SpskBEOLBd7r"
      },
      "execution_count": null,
      "outputs": []
    },
    {
      "cell_type": "code",
      "source": [
        "df_freeshipping_t=df.loc[df['Free Shipping'] == True]\n",
        "df_freeshipping_f=df.loc[df['Free Shipping'] == False]"
      ],
      "metadata": {
        "id": "u4HW18ec4cPS"
      },
      "execution_count": null,
      "outputs": []
    },
    {
      "cell_type": "code",
      "source": [
        "plt.figure(figsize=(20,10))\n",
        "sns.barplot(x='row_num',\n",
        "            y='No of Sold', \n",
        "            data=df_freeshipping_t,\n",
        "            order=df_freeshipping_t.sort_values('No of Sold').row_num)"
      ],
      "metadata": {
        "colab": {
          "base_uri": "https://localhost:8080/",
          "height": 625
        },
        "id": "R6alwubQ9bJ9",
        "outputId": "aed1ebec-2cd7-4dfb-dd4c-ab92e2ab95a0"
      },
      "execution_count": null,
      "outputs": [
        {
          "output_type": "execute_result",
          "data": {
            "text/plain": [
              "<matplotlib.axes._subplots.AxesSubplot at 0x7ffae11c1f10>"
            ]
          },
          "metadata": {},
          "execution_count": 115
        },
        {
          "output_type": "display_data",
          "data": {
            "image/png": "[encoded data removed]",
            "text/plain": [
              "<Figure size 1440x720 with 1 Axes>"
            ]
          },
          "metadata": {
            "needs_background": "light"
          }
        }
      ]
    },
    {
      "cell_type": "code",
      "source": [
        "plt.figure(figsize=(20,10))\n",
        "plt.xticks(rotation=90)\n",
        "sns.barplot(x='row_num',\n",
        "            y='No of Sold', \n",
        "            data=df_freeshipping_f,\n",
        "            order=df_freeshipping_f.sort_values('No of Sold').row_num)\n"
      ],
      "metadata": {
        "colab": {
          "base_uri": "https://localhost:8080/",
          "height": 626
        },
        "id": "Gj3yYrPzDojL",
        "outputId": "5ce8f300-554d-4323-b2cf-10592fe86b90"
      },
      "execution_count": null,
      "outputs": [
        {
          "output_type": "execute_result",
          "data": {
            "text/plain": [
              "<matplotlib.axes._subplots.AxesSubplot at 0x7ffae1353d10>"
            ]
          },
          "metadata": {},
          "execution_count": 116
        },
        {
          "output_type": "display_data",
          "data": {
            "image/png": "[encoded data removed]",
            "text/plain": [
              "<Figure size 1440x720 with 1 Axes>"
            ]
          },
          "metadata": {
            "needs_background": "light"
          }
        }
      ]
    },
    {
      "cell_type": "markdown",
      "source": [
        "**Shop Location**"
      ],
      "metadata": {
        "id": "Vwj4zjQnHmhs"
      }
    },
    {
      "cell_type": "code",
      "source": [
        "df.groupby(['ShopLocationCategory']).sum().plot(kind='pie', \n",
        "                                                y='No of Sold', \n",
        "                                                autopct='%1.0f%%'\n",
        "                                                ,radius=2\n",
        "                                                )\n",
        "\n",
        "#total number of sold for local seller is higher then overseas seller"
      ],
      "metadata": {
        "colab": {
          "base_uri": "https://localhost:8080/",
          "height": 399
        },
        "id": "kBrYePaMHpjV",
        "outputId": "d9be8cb0-783f-4ce5-a31d-0664b98b1441"
      },
      "execution_count": null,
      "outputs": [
        {
          "output_type": "execute_result",
          "data": {
            "text/plain": [
              "<matplotlib.axes._subplots.AxesSubplot at 0x7ffae5f76f90>"
            ]
          },
          "metadata": {},
          "execution_count": 117
        },
        {
          "output_type": "display_data",
          "data": {
            "image/png": "[encoded data removed]",
            "text/plain": [
              "<Figure size 432x288 with 1 Axes>"
            ]
          },
          "metadata": {}
        }
      ]
    },
    {
      "cell_type": "code",
      "source": [
        "df"
      ],
      "metadata": {
        "id": "qx0VmaNPVmwx"
      },
      "execution_count": null,
      "outputs": []
    },
    {
      "cell_type": "code",
      "source": [
        "df.to_csv('project.csv', index=False)"
      ],
      "metadata": {
        "id": "lebBpoMjcrMh"
      },
      "execution_count": null,
      "outputs": []
    }
  ]
}